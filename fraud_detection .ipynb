{
 "cells": [
  {
   "cell_type": "code",
   "execution_count": 1,
   "id": "92d5ed9d",
   "metadata": {},
   "outputs": [],
   "source": [
    "import pandas as pd\n",
    "import numpy as np\n",
    "import seaborn as sns\n",
    "import matplotlib.pyplot as plt\n",
    "from sklearn.model_selection import train_test_split"
   ]
  },
  {
   "cell_type": "code",
   "execution_count": 2,
   "id": "b99a86ae",
   "metadata": {},
   "outputs": [
    {
     "data": {
      "text/html": [
       "<div>\n",
       "<style scoped>\n",
       "    .dataframe tbody tr th:only-of-type {\n",
       "        vertical-align: middle;\n",
       "    }\n",
       "\n",
       "    .dataframe tbody tr th {\n",
       "        vertical-align: top;\n",
       "    }\n",
       "\n",
       "    .dataframe thead th {\n",
       "        text-align: right;\n",
       "    }\n",
       "</style>\n",
       "<table border=\"1\" class=\"dataframe\">\n",
       "  <thead>\n",
       "    <tr style=\"text-align: right;\">\n",
       "      <th></th>\n",
       "      <th>Time</th>\n",
       "      <th>V1</th>\n",
       "      <th>V2</th>\n",
       "      <th>V3</th>\n",
       "      <th>V4</th>\n",
       "      <th>V5</th>\n",
       "      <th>V6</th>\n",
       "      <th>V7</th>\n",
       "      <th>V8</th>\n",
       "      <th>V9</th>\n",
       "      <th>...</th>\n",
       "      <th>V21</th>\n",
       "      <th>V22</th>\n",
       "      <th>V23</th>\n",
       "      <th>V24</th>\n",
       "      <th>V25</th>\n",
       "      <th>V26</th>\n",
       "      <th>V27</th>\n",
       "      <th>V28</th>\n",
       "      <th>Amount</th>\n",
       "      <th>Class</th>\n",
       "    </tr>\n",
       "  </thead>\n",
       "  <tbody>\n",
       "    <tr>\n",
       "      <th>0</th>\n",
       "      <td>0.0</td>\n",
       "      <td>-1.359807</td>\n",
       "      <td>-0.072781</td>\n",
       "      <td>2.536347</td>\n",
       "      <td>1.378155</td>\n",
       "      <td>-0.338321</td>\n",
       "      <td>0.462388</td>\n",
       "      <td>0.239599</td>\n",
       "      <td>0.098698</td>\n",
       "      <td>0.363787</td>\n",
       "      <td>...</td>\n",
       "      <td>-0.018307</td>\n",
       "      <td>0.277838</td>\n",
       "      <td>-0.110474</td>\n",
       "      <td>0.066928</td>\n",
       "      <td>0.128539</td>\n",
       "      <td>-0.189115</td>\n",
       "      <td>0.133558</td>\n",
       "      <td>-0.021053</td>\n",
       "      <td>149.62</td>\n",
       "      <td>0</td>\n",
       "    </tr>\n",
       "    <tr>\n",
       "      <th>1</th>\n",
       "      <td>0.0</td>\n",
       "      <td>1.191857</td>\n",
       "      <td>0.266151</td>\n",
       "      <td>0.166480</td>\n",
       "      <td>0.448154</td>\n",
       "      <td>0.060018</td>\n",
       "      <td>-0.082361</td>\n",
       "      <td>-0.078803</td>\n",
       "      <td>0.085102</td>\n",
       "      <td>-0.255425</td>\n",
       "      <td>...</td>\n",
       "      <td>-0.225775</td>\n",
       "      <td>-0.638672</td>\n",
       "      <td>0.101288</td>\n",
       "      <td>-0.339846</td>\n",
       "      <td>0.167170</td>\n",
       "      <td>0.125895</td>\n",
       "      <td>-0.008983</td>\n",
       "      <td>0.014724</td>\n",
       "      <td>2.69</td>\n",
       "      <td>0</td>\n",
       "    </tr>\n",
       "    <tr>\n",
       "      <th>2</th>\n",
       "      <td>1.0</td>\n",
       "      <td>-1.358354</td>\n",
       "      <td>-1.340163</td>\n",
       "      <td>1.773209</td>\n",
       "      <td>0.379780</td>\n",
       "      <td>-0.503198</td>\n",
       "      <td>1.800499</td>\n",
       "      <td>0.791461</td>\n",
       "      <td>0.247676</td>\n",
       "      <td>-1.514654</td>\n",
       "      <td>...</td>\n",
       "      <td>0.247998</td>\n",
       "      <td>0.771679</td>\n",
       "      <td>0.909412</td>\n",
       "      <td>-0.689281</td>\n",
       "      <td>-0.327642</td>\n",
       "      <td>-0.139097</td>\n",
       "      <td>-0.055353</td>\n",
       "      <td>-0.059752</td>\n",
       "      <td>378.66</td>\n",
       "      <td>0</td>\n",
       "    </tr>\n",
       "    <tr>\n",
       "      <th>3</th>\n",
       "      <td>1.0</td>\n",
       "      <td>-0.966272</td>\n",
       "      <td>-0.185226</td>\n",
       "      <td>1.792993</td>\n",
       "      <td>-0.863291</td>\n",
       "      <td>-0.010309</td>\n",
       "      <td>1.247203</td>\n",
       "      <td>0.237609</td>\n",
       "      <td>0.377436</td>\n",
       "      <td>-1.387024</td>\n",
       "      <td>...</td>\n",
       "      <td>-0.108300</td>\n",
       "      <td>0.005274</td>\n",
       "      <td>-0.190321</td>\n",
       "      <td>-1.175575</td>\n",
       "      <td>0.647376</td>\n",
       "      <td>-0.221929</td>\n",
       "      <td>0.062723</td>\n",
       "      <td>0.061458</td>\n",
       "      <td>123.50</td>\n",
       "      <td>0</td>\n",
       "    </tr>\n",
       "    <tr>\n",
       "      <th>4</th>\n",
       "      <td>2.0</td>\n",
       "      <td>-1.158233</td>\n",
       "      <td>0.877737</td>\n",
       "      <td>1.548718</td>\n",
       "      <td>0.403034</td>\n",
       "      <td>-0.407193</td>\n",
       "      <td>0.095921</td>\n",
       "      <td>0.592941</td>\n",
       "      <td>-0.270533</td>\n",
       "      <td>0.817739</td>\n",
       "      <td>...</td>\n",
       "      <td>-0.009431</td>\n",
       "      <td>0.798278</td>\n",
       "      <td>-0.137458</td>\n",
       "      <td>0.141267</td>\n",
       "      <td>-0.206010</td>\n",
       "      <td>0.502292</td>\n",
       "      <td>0.219422</td>\n",
       "      <td>0.215153</td>\n",
       "      <td>69.99</td>\n",
       "      <td>0</td>\n",
       "    </tr>\n",
       "  </tbody>\n",
       "</table>\n",
       "<p>5 rows × 31 columns</p>\n",
       "</div>"
      ],
      "text/plain": [
       "   Time        V1        V2        V3        V4        V5        V6        V7  \\\n",
       "0   0.0 -1.359807 -0.072781  2.536347  1.378155 -0.338321  0.462388  0.239599   \n",
       "1   0.0  1.191857  0.266151  0.166480  0.448154  0.060018 -0.082361 -0.078803   \n",
       "2   1.0 -1.358354 -1.340163  1.773209  0.379780 -0.503198  1.800499  0.791461   \n",
       "3   1.0 -0.966272 -0.185226  1.792993 -0.863291 -0.010309  1.247203  0.237609   \n",
       "4   2.0 -1.158233  0.877737  1.548718  0.403034 -0.407193  0.095921  0.592941   \n",
       "\n",
       "         V8        V9  ...       V21       V22       V23       V24       V25  \\\n",
       "0  0.098698  0.363787  ... -0.018307  0.277838 -0.110474  0.066928  0.128539   \n",
       "1  0.085102 -0.255425  ... -0.225775 -0.638672  0.101288 -0.339846  0.167170   \n",
       "2  0.247676 -1.514654  ...  0.247998  0.771679  0.909412 -0.689281 -0.327642   \n",
       "3  0.377436 -1.387024  ... -0.108300  0.005274 -0.190321 -1.175575  0.647376   \n",
       "4 -0.270533  0.817739  ... -0.009431  0.798278 -0.137458  0.141267 -0.206010   \n",
       "\n",
       "        V26       V27       V28  Amount  Class  \n",
       "0 -0.189115  0.133558 -0.021053  149.62      0  \n",
       "1  0.125895 -0.008983  0.014724    2.69      0  \n",
       "2 -0.139097 -0.055353 -0.059752  378.66      0  \n",
       "3 -0.221929  0.062723  0.061458  123.50      0  \n",
       "4  0.502292  0.219422  0.215153   69.99      0  \n",
       "\n",
       "[5 rows x 31 columns]"
      ]
     },
     "execution_count": 2,
     "metadata": {},
     "output_type": "execute_result"
    }
   ],
   "source": [
    "data=pd.read_csv('creditcard.csv')\n",
    "data.head()"
   ]
  },
  {
   "cell_type": "code",
   "execution_count": 3,
   "id": "dd3123c0",
   "metadata": {},
   "outputs": [
    {
     "data": {
      "text/plain": [
       "(284807, 31)"
      ]
     },
     "execution_count": 3,
     "metadata": {},
     "output_type": "execute_result"
    }
   ],
   "source": [
    "#shape of the data\n",
    "data.shape"
   ]
  },
  {
   "cell_type": "code",
   "execution_count": 5,
   "id": "95d24219",
   "metadata": {},
   "outputs": [
    {
     "data": {
      "text/plain": [
       "284807"
      ]
     },
     "execution_count": 5,
     "metadata": {},
     "output_type": "execute_result"
    }
   ],
   "source": [
    "#number of observations \n",
    "data.shape[0]"
   ]
  },
  {
   "cell_type": "code",
   "execution_count": 6,
   "id": "0342da9d",
   "metadata": {},
   "outputs": [
    {
     "data": {
      "text/plain": [
       "31"
      ]
     },
     "execution_count": 6,
     "metadata": {},
     "output_type": "execute_result"
    }
   ],
   "source": [
    "#number of parameters \n",
    "data.shape[1]"
   ]
  },
  {
   "cell_type": "code",
   "execution_count": 12,
   "id": "ce355f8c",
   "metadata": {},
   "outputs": [
    {
     "data": {
      "text/plain": [
       "array([0, 1], dtype=int64)"
      ]
     },
     "execution_count": 12,
     "metadata": {},
     "output_type": "execute_result"
    }
   ],
   "source": [
    "# number of output unique values\n",
    "data.Class.unique()"
   ]
  },
  {
   "cell_type": "code",
   "execution_count": 13,
   "id": "6457a537",
   "metadata": {},
   "outputs": [
    {
     "data": {
      "text/plain": [
       "0    284315\n",
       "1       492\n",
       "Name: Class, dtype: int64"
      ]
     },
     "execution_count": 13,
     "metadata": {},
     "output_type": "execute_result"
    }
   ],
   "source": [
    "# there is two class 0 and 1; 0 stands for legit and 1 stands for fraud transaction \n",
    "# number of each class\n",
    "data.Class.value_counts()"
   ]
  },
  {
   "cell_type": "code",
   "execution_count": 56,
   "id": "854526cd",
   "metadata": {},
   "outputs": [
    {
     "data": {
      "text/html": [
       "<div>\n",
       "<style scoped>\n",
       "    .dataframe tbody tr th:only-of-type {\n",
       "        vertical-align: middle;\n",
       "    }\n",
       "\n",
       "    .dataframe tbody tr th {\n",
       "        vertical-align: top;\n",
       "    }\n",
       "\n",
       "    .dataframe thead th {\n",
       "        text-align: right;\n",
       "    }\n",
       "</style>\n",
       "<table border=\"1\" class=\"dataframe\">\n",
       "  <thead>\n",
       "    <tr style=\"text-align: right;\">\n",
       "      <th>Class</th>\n",
       "      <th>0</th>\n",
       "      <th>1</th>\n",
       "    </tr>\n",
       "  </thead>\n",
       "  <tbody>\n",
       "    <tr>\n",
       "      <th>Time</th>\n",
       "      <td>94838.202258</td>\n",
       "      <td>80746.806911</td>\n",
       "    </tr>\n",
       "    <tr>\n",
       "      <th>V1</th>\n",
       "      <td>0.008258</td>\n",
       "      <td>-4.771948</td>\n",
       "    </tr>\n",
       "    <tr>\n",
       "      <th>V2</th>\n",
       "      <td>-0.006271</td>\n",
       "      <td>3.623778</td>\n",
       "    </tr>\n",
       "    <tr>\n",
       "      <th>V3</th>\n",
       "      <td>0.012171</td>\n",
       "      <td>-7.033281</td>\n",
       "    </tr>\n",
       "    <tr>\n",
       "      <th>V4</th>\n",
       "      <td>-0.007860</td>\n",
       "      <td>4.542029</td>\n",
       "    </tr>\n",
       "    <tr>\n",
       "      <th>V5</th>\n",
       "      <td>0.005453</td>\n",
       "      <td>-3.151225</td>\n",
       "    </tr>\n",
       "    <tr>\n",
       "      <th>V6</th>\n",
       "      <td>0.002419</td>\n",
       "      <td>-1.397737</td>\n",
       "    </tr>\n",
       "    <tr>\n",
       "      <th>V7</th>\n",
       "      <td>0.009637</td>\n",
       "      <td>-5.568731</td>\n",
       "    </tr>\n",
       "    <tr>\n",
       "      <th>V8</th>\n",
       "      <td>-0.000987</td>\n",
       "      <td>0.570636</td>\n",
       "    </tr>\n",
       "    <tr>\n",
       "      <th>V9</th>\n",
       "      <td>0.004467</td>\n",
       "      <td>-2.581123</td>\n",
       "    </tr>\n",
       "    <tr>\n",
       "      <th>V10</th>\n",
       "      <td>0.009824</td>\n",
       "      <td>-5.676883</td>\n",
       "    </tr>\n",
       "    <tr>\n",
       "      <th>V11</th>\n",
       "      <td>-0.006576</td>\n",
       "      <td>3.800173</td>\n",
       "    </tr>\n",
       "    <tr>\n",
       "      <th>V12</th>\n",
       "      <td>0.010832</td>\n",
       "      <td>-6.259393</td>\n",
       "    </tr>\n",
       "    <tr>\n",
       "      <th>V13</th>\n",
       "      <td>0.000189</td>\n",
       "      <td>-0.109334</td>\n",
       "    </tr>\n",
       "    <tr>\n",
       "      <th>V14</th>\n",
       "      <td>0.012064</td>\n",
       "      <td>-6.971723</td>\n",
       "    </tr>\n",
       "    <tr>\n",
       "      <th>V15</th>\n",
       "      <td>0.000161</td>\n",
       "      <td>-0.092929</td>\n",
       "    </tr>\n",
       "    <tr>\n",
       "      <th>V16</th>\n",
       "      <td>0.007164</td>\n",
       "      <td>-4.139946</td>\n",
       "    </tr>\n",
       "    <tr>\n",
       "      <th>V17</th>\n",
       "      <td>0.011535</td>\n",
       "      <td>-6.665836</td>\n",
       "    </tr>\n",
       "    <tr>\n",
       "      <th>V18</th>\n",
       "      <td>0.003887</td>\n",
       "      <td>-2.246308</td>\n",
       "    </tr>\n",
       "    <tr>\n",
       "      <th>V19</th>\n",
       "      <td>-0.001178</td>\n",
       "      <td>0.680659</td>\n",
       "    </tr>\n",
       "    <tr>\n",
       "      <th>V20</th>\n",
       "      <td>-0.000644</td>\n",
       "      <td>0.372319</td>\n",
       "    </tr>\n",
       "    <tr>\n",
       "      <th>V21</th>\n",
       "      <td>-0.001235</td>\n",
       "      <td>0.713588</td>\n",
       "    </tr>\n",
       "    <tr>\n",
       "      <th>V22</th>\n",
       "      <td>-0.000024</td>\n",
       "      <td>0.014049</td>\n",
       "    </tr>\n",
       "    <tr>\n",
       "      <th>V23</th>\n",
       "      <td>0.000070</td>\n",
       "      <td>-0.040308</td>\n",
       "    </tr>\n",
       "    <tr>\n",
       "      <th>V24</th>\n",
       "      <td>0.000182</td>\n",
       "      <td>-0.105130</td>\n",
       "    </tr>\n",
       "    <tr>\n",
       "      <th>V25</th>\n",
       "      <td>-0.000072</td>\n",
       "      <td>0.041449</td>\n",
       "    </tr>\n",
       "    <tr>\n",
       "      <th>V26</th>\n",
       "      <td>-0.000089</td>\n",
       "      <td>0.051648</td>\n",
       "    </tr>\n",
       "    <tr>\n",
       "      <th>V27</th>\n",
       "      <td>-0.000295</td>\n",
       "      <td>0.170575</td>\n",
       "    </tr>\n",
       "    <tr>\n",
       "      <th>V28</th>\n",
       "      <td>-0.000131</td>\n",
       "      <td>0.075667</td>\n",
       "    </tr>\n",
       "    <tr>\n",
       "      <th>Amount</th>\n",
       "      <td>88.291022</td>\n",
       "      <td>122.211321</td>\n",
       "    </tr>\n",
       "  </tbody>\n",
       "</table>\n",
       "</div>"
      ],
      "text/plain": [
       "Class              0             1\n",
       "Time    94838.202258  80746.806911\n",
       "V1          0.008258     -4.771948\n",
       "V2         -0.006271      3.623778\n",
       "V3          0.012171     -7.033281\n",
       "V4         -0.007860      4.542029\n",
       "V5          0.005453     -3.151225\n",
       "V6          0.002419     -1.397737\n",
       "V7          0.009637     -5.568731\n",
       "V8         -0.000987      0.570636\n",
       "V9          0.004467     -2.581123\n",
       "V10         0.009824     -5.676883\n",
       "V11        -0.006576      3.800173\n",
       "V12         0.010832     -6.259393\n",
       "V13         0.000189     -0.109334\n",
       "V14         0.012064     -6.971723\n",
       "V15         0.000161     -0.092929\n",
       "V16         0.007164     -4.139946\n",
       "V17         0.011535     -6.665836\n",
       "V18         0.003887     -2.246308\n",
       "V19        -0.001178      0.680659\n",
       "V20        -0.000644      0.372319\n",
       "V21        -0.001235      0.713588\n",
       "V22        -0.000024      0.014049\n",
       "V23         0.000070     -0.040308\n",
       "V24         0.000182     -0.105130\n",
       "V25        -0.000072      0.041449\n",
       "V26        -0.000089      0.051648\n",
       "V27        -0.000295      0.170575\n",
       "V28        -0.000131      0.075667\n",
       "Amount     88.291022    122.211321"
      ]
     },
     "execution_count": 56,
     "metadata": {},
     "output_type": "execute_result"
    }
   ],
   "source": [
    "data.groupby('Class').mean().T"
   ]
  },
  {
   "cell_type": "code",
   "execution_count": 16,
   "id": "144250fc",
   "metadata": {},
   "outputs": [
    {
     "data": {
      "text/plain": [
       "count    284807.000000\n",
       "mean         88.349619\n",
       "std         250.120109\n",
       "min           0.000000\n",
       "25%           5.600000\n",
       "50%          22.000000\n",
       "75%          77.165000\n",
       "max       25691.160000\n",
       "Name: Amount, dtype: float64"
      ]
     },
     "execution_count": 16,
     "metadata": {},
     "output_type": "execute_result"
    }
   ],
   "source": [
    "data.Amount.describe()"
   ]
  },
  {
   "cell_type": "code",
   "execution_count": 18,
   "id": "6101833c",
   "metadata": {},
   "outputs": [
    {
     "data": {
      "text/plain": [
       "count    284315.000000\n",
       "mean         88.291022\n",
       "std         250.105092\n",
       "min           0.000000\n",
       "25%           5.650000\n",
       "50%          22.000000\n",
       "75%          77.050000\n",
       "max       25691.160000\n",
       "Name: Amount, dtype: float64"
      ]
     },
     "execution_count": 18,
     "metadata": {},
     "output_type": "execute_result"
    }
   ],
   "source": [
    "data.Amount[data.Class==0].describe()"
   ]
  },
  {
   "cell_type": "code",
   "execution_count": 19,
   "id": "c034f258",
   "metadata": {},
   "outputs": [
    {
     "data": {
      "text/plain": [
       "count     492.000000\n",
       "mean      122.211321\n",
       "std       256.683288\n",
       "min         0.000000\n",
       "25%         1.000000\n",
       "50%         9.250000\n",
       "75%       105.890000\n",
       "max      2125.870000\n",
       "Name: Amount, dtype: float64"
      ]
     },
     "execution_count": 19,
     "metadata": {},
     "output_type": "execute_result"
    }
   ],
   "source": [
    "data.Amount[data.Class==1].describe()"
   ]
  },
  {
   "cell_type": "code",
   "execution_count": 61,
   "id": "0931d699",
   "metadata": {},
   "outputs": [
    {
     "data": {
      "text/html": [
       "<div>\n",
       "<style scoped>\n",
       "    .dataframe tbody tr th:only-of-type {\n",
       "        vertical-align: middle;\n",
       "    }\n",
       "\n",
       "    .dataframe tbody tr th {\n",
       "        vertical-align: top;\n",
       "    }\n",
       "\n",
       "    .dataframe thead th {\n",
       "        text-align: right;\n",
       "    }\n",
       "</style>\n",
       "<table border=\"1\" class=\"dataframe\">\n",
       "  <thead>\n",
       "    <tr style=\"text-align: right;\">\n",
       "      <th></th>\n",
       "      <th>Time</th>\n",
       "      <th>V1</th>\n",
       "      <th>V2</th>\n",
       "      <th>V3</th>\n",
       "      <th>V4</th>\n",
       "      <th>V5</th>\n",
       "      <th>V6</th>\n",
       "      <th>V7</th>\n",
       "      <th>V8</th>\n",
       "      <th>V9</th>\n",
       "      <th>...</th>\n",
       "      <th>V21</th>\n",
       "      <th>V22</th>\n",
       "      <th>V23</th>\n",
       "      <th>V24</th>\n",
       "      <th>V25</th>\n",
       "      <th>V26</th>\n",
       "      <th>V27</th>\n",
       "      <th>V28</th>\n",
       "      <th>Amount</th>\n",
       "      <th>Class</th>\n",
       "    </tr>\n",
       "  </thead>\n",
       "  <tbody>\n",
       "    <tr>\n",
       "      <th>3954</th>\n",
       "      <td>3579.0</td>\n",
       "      <td>0.729185</td>\n",
       "      <td>-1.482025</td>\n",
       "      <td>-0.284564</td>\n",
       "      <td>-0.237517</td>\n",
       "      <td>-0.979221</td>\n",
       "      <td>-0.458951</td>\n",
       "      <td>0.180632</td>\n",
       "      <td>-0.281292</td>\n",
       "      <td>-0.944700</td>\n",
       "      <td>...</td>\n",
       "      <td>-0.215013</td>\n",
       "      <td>-0.689255</td>\n",
       "      <td>-0.272534</td>\n",
       "      <td>0.169303</td>\n",
       "      <td>0.263602</td>\n",
       "      <td>1.083922</td>\n",
       "      <td>-0.109841</td>\n",
       "      <td>0.053253</td>\n",
       "      <td>334.96</td>\n",
       "      <td>0</td>\n",
       "    </tr>\n",
       "    <tr>\n",
       "      <th>253692</th>\n",
       "      <td>156363.0</td>\n",
       "      <td>2.193811</td>\n",
       "      <td>-1.545733</td>\n",
       "      <td>-0.289638</td>\n",
       "      <td>-1.403077</td>\n",
       "      <td>-1.778474</td>\n",
       "      <td>-0.688594</td>\n",
       "      <td>-1.402530</td>\n",
       "      <td>-0.219940</td>\n",
       "      <td>-0.998951</td>\n",
       "      <td>...</td>\n",
       "      <td>0.137836</td>\n",
       "      <td>0.964143</td>\n",
       "      <td>0.102420</td>\n",
       "      <td>0.098203</td>\n",
       "      <td>-0.175723</td>\n",
       "      <td>0.029479</td>\n",
       "      <td>0.046364</td>\n",
       "      <td>-0.032859</td>\n",
       "      <td>49.95</td>\n",
       "      <td>0</td>\n",
       "    </tr>\n",
       "    <tr>\n",
       "      <th>14304</th>\n",
       "      <td>25374.0</td>\n",
       "      <td>-1.889823</td>\n",
       "      <td>-0.822532</td>\n",
       "      <td>1.848958</td>\n",
       "      <td>-0.175435</td>\n",
       "      <td>1.912696</td>\n",
       "      <td>-1.770646</td>\n",
       "      <td>-0.349078</td>\n",
       "      <td>0.116201</td>\n",
       "      <td>-0.341485</td>\n",
       "      <td>...</td>\n",
       "      <td>-0.107583</td>\n",
       "      <td>-0.966692</td>\n",
       "      <td>0.088443</td>\n",
       "      <td>-0.158542</td>\n",
       "      <td>0.338305</td>\n",
       "      <td>0.043958</td>\n",
       "      <td>-0.079898</td>\n",
       "      <td>0.088226</td>\n",
       "      <td>0.99</td>\n",
       "      <td>0</td>\n",
       "    </tr>\n",
       "    <tr>\n",
       "      <th>170443</th>\n",
       "      <td>120188.0</td>\n",
       "      <td>1.915756</td>\n",
       "      <td>-0.120928</td>\n",
       "      <td>-1.268545</td>\n",
       "      <td>1.427432</td>\n",
       "      <td>0.867539</td>\n",
       "      <td>1.211602</td>\n",
       "      <td>-0.314912</td>\n",
       "      <td>0.351773</td>\n",
       "      <td>-0.892420</td>\n",
       "      <td>...</td>\n",
       "      <td>0.238459</td>\n",
       "      <td>0.712714</td>\n",
       "      <td>0.164829</td>\n",
       "      <td>-1.534771</td>\n",
       "      <td>-0.558441</td>\n",
       "      <td>2.495538</td>\n",
       "      <td>-0.173567</td>\n",
       "      <td>-0.114101</td>\n",
       "      <td>6.83</td>\n",
       "      <td>0</td>\n",
       "    </tr>\n",
       "    <tr>\n",
       "      <th>103816</th>\n",
       "      <td>68804.0</td>\n",
       "      <td>1.158741</td>\n",
       "      <td>0.194145</td>\n",
       "      <td>0.603404</td>\n",
       "      <td>1.220216</td>\n",
       "      <td>-0.668989</td>\n",
       "      <td>-1.083051</td>\n",
       "      <td>0.064805</td>\n",
       "      <td>-0.154644</td>\n",
       "      <td>0.183546</td>\n",
       "      <td>...</td>\n",
       "      <td>-0.044922</td>\n",
       "      <td>-0.207323</td>\n",
       "      <td>0.025963</td>\n",
       "      <td>0.665558</td>\n",
       "      <td>0.428432</td>\n",
       "      <td>-0.481092</td>\n",
       "      <td>0.014162</td>\n",
       "      <td>0.032352</td>\n",
       "      <td>29.00</td>\n",
       "      <td>0</td>\n",
       "    </tr>\n",
       "    <tr>\n",
       "      <th>...</th>\n",
       "      <td>...</td>\n",
       "      <td>...</td>\n",
       "      <td>...</td>\n",
       "      <td>...</td>\n",
       "      <td>...</td>\n",
       "      <td>...</td>\n",
       "      <td>...</td>\n",
       "      <td>...</td>\n",
       "      <td>...</td>\n",
       "      <td>...</td>\n",
       "      <td>...</td>\n",
       "      <td>...</td>\n",
       "      <td>...</td>\n",
       "      <td>...</td>\n",
       "      <td>...</td>\n",
       "      <td>...</td>\n",
       "      <td>...</td>\n",
       "      <td>...</td>\n",
       "      <td>...</td>\n",
       "      <td>...</td>\n",
       "      <td>...</td>\n",
       "    </tr>\n",
       "    <tr>\n",
       "      <th>62747</th>\n",
       "      <td>50412.0</td>\n",
       "      <td>1.154504</td>\n",
       "      <td>0.076124</td>\n",
       "      <td>0.447523</td>\n",
       "      <td>0.528809</td>\n",
       "      <td>-0.366840</td>\n",
       "      <td>-0.379192</td>\n",
       "      <td>-0.107920</td>\n",
       "      <td>0.096529</td>\n",
       "      <td>-0.108989</td>\n",
       "      <td>...</td>\n",
       "      <td>-0.118502</td>\n",
       "      <td>-0.392036</td>\n",
       "      <td>0.129680</td>\n",
       "      <td>0.203867</td>\n",
       "      <td>0.153277</td>\n",
       "      <td>0.175734</td>\n",
       "      <td>-0.029596</td>\n",
       "      <td>0.002538</td>\n",
       "      <td>7.83</td>\n",
       "      <td>0</td>\n",
       "    </tr>\n",
       "    <tr>\n",
       "      <th>270067</th>\n",
       "      <td>163908.0</td>\n",
       "      <td>2.039333</td>\n",
       "      <td>-0.442181</td>\n",
       "      <td>-0.764447</td>\n",
       "      <td>0.073737</td>\n",
       "      <td>-0.021732</td>\n",
       "      <td>0.581850</td>\n",
       "      <td>-0.730913</td>\n",
       "      <td>0.176152</td>\n",
       "      <td>1.243868</td>\n",
       "      <td>...</td>\n",
       "      <td>0.159618</td>\n",
       "      <td>0.739097</td>\n",
       "      <td>-0.052678</td>\n",
       "      <td>-1.409818</td>\n",
       "      <td>0.058512</td>\n",
       "      <td>-0.142431</td>\n",
       "      <td>0.043782</td>\n",
       "      <td>-0.061827</td>\n",
       "      <td>0.01</td>\n",
       "      <td>0</td>\n",
       "    </tr>\n",
       "    <tr>\n",
       "      <th>189678</th>\n",
       "      <td>128508.0</td>\n",
       "      <td>1.945898</td>\n",
       "      <td>-2.472496</td>\n",
       "      <td>0.928434</td>\n",
       "      <td>-0.781389</td>\n",
       "      <td>-3.139030</td>\n",
       "      <td>0.146877</td>\n",
       "      <td>-2.463120</td>\n",
       "      <td>0.333474</td>\n",
       "      <td>0.802364</td>\n",
       "      <td>...</td>\n",
       "      <td>-0.008063</td>\n",
       "      <td>0.648314</td>\n",
       "      <td>0.194148</td>\n",
       "      <td>0.455867</td>\n",
       "      <td>-0.498603</td>\n",
       "      <td>-0.009011</td>\n",
       "      <td>0.092997</td>\n",
       "      <td>-0.011054</td>\n",
       "      <td>104.45</td>\n",
       "      <td>0</td>\n",
       "    </tr>\n",
       "    <tr>\n",
       "      <th>262711</th>\n",
       "      <td>160616.0</td>\n",
       "      <td>2.222422</td>\n",
       "      <td>-0.585140</td>\n",
       "      <td>-1.719587</td>\n",
       "      <td>-1.234503</td>\n",
       "      <td>0.132990</td>\n",
       "      <td>-0.538296</td>\n",
       "      <td>-0.206267</td>\n",
       "      <td>-0.255825</td>\n",
       "      <td>-1.085317</td>\n",
       "      <td>...</td>\n",
       "      <td>0.080780</td>\n",
       "      <td>0.148639</td>\n",
       "      <td>0.167206</td>\n",
       "      <td>0.304695</td>\n",
       "      <td>0.013917</td>\n",
       "      <td>-0.344277</td>\n",
       "      <td>-0.051891</td>\n",
       "      <td>-0.066843</td>\n",
       "      <td>17.99</td>\n",
       "      <td>0</td>\n",
       "    </tr>\n",
       "    <tr>\n",
       "      <th>42587</th>\n",
       "      <td>41163.0</td>\n",
       "      <td>0.651669</td>\n",
       "      <td>-2.374569</td>\n",
       "      <td>-0.108174</td>\n",
       "      <td>-1.156222</td>\n",
       "      <td>-1.733458</td>\n",
       "      <td>-0.177937</td>\n",
       "      <td>-0.529064</td>\n",
       "      <td>-0.031038</td>\n",
       "      <td>-2.068213</td>\n",
       "      <td>...</td>\n",
       "      <td>-0.038422</td>\n",
       "      <td>-0.721591</td>\n",
       "      <td>-0.217059</td>\n",
       "      <td>-0.036099</td>\n",
       "      <td>0.015991</td>\n",
       "      <td>-0.366138</td>\n",
       "      <td>-0.046398</td>\n",
       "      <td>0.076261</td>\n",
       "      <td>419.96</td>\n",
       "      <td>0</td>\n",
       "    </tr>\n",
       "  </tbody>\n",
       "</table>\n",
       "<p>100 rows × 31 columns</p>\n",
       "</div>"
      ],
      "text/plain": [
       "            Time        V1        V2        V3        V4        V5        V6  \\\n",
       "3954      3579.0  0.729185 -1.482025 -0.284564 -0.237517 -0.979221 -0.458951   \n",
       "253692  156363.0  2.193811 -1.545733 -0.289638 -1.403077 -1.778474 -0.688594   \n",
       "14304    25374.0 -1.889823 -0.822532  1.848958 -0.175435  1.912696 -1.770646   \n",
       "170443  120188.0  1.915756 -0.120928 -1.268545  1.427432  0.867539  1.211602   \n",
       "103816   68804.0  1.158741  0.194145  0.603404  1.220216 -0.668989 -1.083051   \n",
       "...          ...       ...       ...       ...       ...       ...       ...   \n",
       "62747    50412.0  1.154504  0.076124  0.447523  0.528809 -0.366840 -0.379192   \n",
       "270067  163908.0  2.039333 -0.442181 -0.764447  0.073737 -0.021732  0.581850   \n",
       "189678  128508.0  1.945898 -2.472496  0.928434 -0.781389 -3.139030  0.146877   \n",
       "262711  160616.0  2.222422 -0.585140 -1.719587 -1.234503  0.132990 -0.538296   \n",
       "42587    41163.0  0.651669 -2.374569 -0.108174 -1.156222 -1.733458 -0.177937   \n",
       "\n",
       "              V7        V8        V9  ...       V21       V22       V23  \\\n",
       "3954    0.180632 -0.281292 -0.944700  ... -0.215013 -0.689255 -0.272534   \n",
       "253692 -1.402530 -0.219940 -0.998951  ...  0.137836  0.964143  0.102420   \n",
       "14304  -0.349078  0.116201 -0.341485  ... -0.107583 -0.966692  0.088443   \n",
       "170443 -0.314912  0.351773 -0.892420  ...  0.238459  0.712714  0.164829   \n",
       "103816  0.064805 -0.154644  0.183546  ... -0.044922 -0.207323  0.025963   \n",
       "...          ...       ...       ...  ...       ...       ...       ...   \n",
       "62747  -0.107920  0.096529 -0.108989  ... -0.118502 -0.392036  0.129680   \n",
       "270067 -0.730913  0.176152  1.243868  ...  0.159618  0.739097 -0.052678   \n",
       "189678 -2.463120  0.333474  0.802364  ... -0.008063  0.648314  0.194148   \n",
       "262711 -0.206267 -0.255825 -1.085317  ...  0.080780  0.148639  0.167206   \n",
       "42587  -0.529064 -0.031038 -2.068213  ... -0.038422 -0.721591 -0.217059   \n",
       "\n",
       "             V24       V25       V26       V27       V28  Amount  Class  \n",
       "3954    0.169303  0.263602  1.083922 -0.109841  0.053253  334.96      0  \n",
       "253692  0.098203 -0.175723  0.029479  0.046364 -0.032859   49.95      0  \n",
       "14304  -0.158542  0.338305  0.043958 -0.079898  0.088226    0.99      0  \n",
       "170443 -1.534771 -0.558441  2.495538 -0.173567 -0.114101    6.83      0  \n",
       "103816  0.665558  0.428432 -0.481092  0.014162  0.032352   29.00      0  \n",
       "...          ...       ...       ...       ...       ...     ...    ...  \n",
       "62747   0.203867  0.153277  0.175734 -0.029596  0.002538    7.83      0  \n",
       "270067 -1.409818  0.058512 -0.142431  0.043782 -0.061827    0.01      0  \n",
       "189678  0.455867 -0.498603 -0.009011  0.092997 -0.011054  104.45      0  \n",
       "262711  0.304695  0.013917 -0.344277 -0.051891 -0.066843   17.99      0  \n",
       "42587  -0.036099  0.015991 -0.366138 -0.046398  0.076261  419.96      0  \n",
       "\n",
       "[100 rows x 31 columns]"
      ]
     },
     "execution_count": 61,
     "metadata": {},
     "output_type": "execute_result"
    }
   ],
   "source": [
    "samp"
   ]
  },
  {
   "cell_type": "code",
   "execution_count": 68,
   "id": "5779401a",
   "metadata": {},
   "outputs": [
    {
     "name": "stderr",
     "output_type": "stream",
     "text": [
      "C:\\Users\\Abdul Wajed Farhat\\anaconda3\\lib\\site-packages\\seaborn\\_decorators.py:36: FutureWarning: Pass the following variables as keyword args: x, y. From version 0.12, the only valid positional argument will be `data`, and passing other arguments without an explicit keyword will result in an error or misinterpretation.\n",
      "  warnings.warn(\n"
     ]
    },
    {
     "data": {
      "text/plain": [
       "<AxesSubplot:ylabel='Amount'>"
      ]
     },
     "execution_count": 68,
     "metadata": {},
     "output_type": "execute_result"
    },
    {
     "data": {
      "image/png": "[encoded data removed]",
      "text/plain": [
       "<Figure size 720x720 with 1 Axes>"
      ]
     },
     "metadata": {
      "needs_background": "light"
     },
     "output_type": "display_data"
    }
   ],
   "source": [
    "plt.figure(figsize=(10,10))\n",
    "samp=data.sample(10000)\n",
    "sns.scatterplot(range(1,10001),samp.Amount,hue=samp.Class,data=samp)"
   ]
  },
  {
   "cell_type": "code",
   "execution_count": 21,
   "id": "0813396c",
   "metadata": {},
   "outputs": [],
   "source": [
    "x=data.drop('Class',axis=1)\n",
    "y=data.Class"
   ]
  },
  {
   "cell_type": "code",
   "execution_count": 22,
   "id": "e60a5ed2",
   "metadata": {},
   "outputs": [],
   "source": [
    "# splitting the data into train and test\n",
    "x_train, x_test, y_train, y_test=train_test_split(x,y,test_size=0.25,random_state=5)"
   ]
  },
  {
   "cell_type": "code",
   "execution_count": 25,
   "id": "86b58cec",
   "metadata": {},
   "outputs": [
    {
     "data": {
      "text/plain": [
       "(213605, 30)"
      ]
     },
     "execution_count": 25,
     "metadata": {},
     "output_type": "execute_result"
    }
   ],
   "source": [
    "x_train.shape"
   ]
  },
  {
   "cell_type": "code",
   "execution_count": 27,
   "id": "5a2f6b8e",
   "metadata": {},
   "outputs": [
    {
     "data": {
      "text/plain": [
       "6870      1\n",
       "50537     1\n",
       "70589     1\n",
       "189587    1\n",
       "58761     1\n",
       "         ..\n",
       "10484     1\n",
       "223618    1\n",
       "208651    1\n",
       "258403    1\n",
       "15225     1\n",
       "Name: Class, Length: 371, dtype: int64"
      ]
     },
     "execution_count": 27,
     "metadata": {},
     "output_type": "execute_result"
    }
   ],
   "source": [
    "y_train[y_train==1]"
   ]
  },
  {
   "cell_type": "code",
   "execution_count": 28,
   "id": "6aca1978",
   "metadata": {},
   "outputs": [
    {
     "data": {
      "text/plain": [
       "160749    0\n",
       "230086    0\n",
       "105763    0\n",
       "196675    0\n",
       "52454     0\n",
       "         ..\n",
       "136592    0\n",
       "232422    0\n",
       "124605    0\n",
       "20463     0\n",
       "18638     0\n",
       "Name: Class, Length: 213234, dtype: int64"
      ]
     },
     "execution_count": 28,
     "metadata": {},
     "output_type": "execute_result"
    }
   ],
   "source": [
    "y_train[y_train==0]"
   ]
  },
  {
   "cell_type": "code",
   "execution_count": 30,
   "id": "b289f88d",
   "metadata": {},
   "outputs": [
    {
     "data": {
      "text/plain": [
       "71081"
      ]
     },
     "execution_count": 30,
     "metadata": {},
     "output_type": "execute_result"
    }
   ],
   "source": [
    "y_test[y_test==0].count()"
   ]
  },
  {
   "cell_type": "code",
   "execution_count": 31,
   "id": "4ecc8070",
   "metadata": {},
   "outputs": [
    {
     "data": {
      "text/plain": [
       "121"
      ]
     },
     "execution_count": 31,
     "metadata": {},
     "output_type": "execute_result"
    }
   ],
   "source": [
    "y_test[y_test==1].count()"
   ]
  },
  {
   "cell_type": "markdown",
   "id": "e6035740",
   "metadata": {},
   "source": [
    "# Applying Logistic regression method"
   ]
  },
  {
   "cell_type": "code",
   "execution_count": 33,
   "id": "60eaa0b3",
   "metadata": {},
   "outputs": [],
   "source": [
    "from sklearn.linear_model import LogisticRegression\n",
    "log_model=LogisticRegression()"
   ]
  },
  {
   "cell_type": "code",
   "execution_count": 34,
   "id": "211068ee",
   "metadata": {},
   "outputs": [
    {
     "name": "stderr",
     "output_type": "stream",
     "text": [
      "C:\\Users\\Abdul Wajed Farhat\\anaconda3\\lib\\site-packages\\sklearn\\linear_model\\_logistic.py:763: ConvergenceWarning: lbfgs failed to converge (status=1):\n",
      "STOP: TOTAL NO. of ITERATIONS REACHED LIMIT.\n",
      "\n",
      "Increase the number of iterations (max_iter) or scale the data as shown in:\n",
      "    https://scikit-learn.org/stable/modules/preprocessing.html\n",
      "Please also refer to the documentation for alternative solver options:\n",
      "    https://scikit-learn.org/stable/modules/linear_model.html#logistic-regression\n",
      "  n_iter_i = _check_optimize_result(\n"
     ]
    },
    {
     "data": {
      "text/plain": [
       "LogisticRegression()"
      ]
     },
     "execution_count": 34,
     "metadata": {},
     "output_type": "execute_result"
    }
   ],
   "source": [
    "log_model.fit(x_train,y_train)"
   ]
  },
  {
   "cell_type": "code",
   "execution_count": 35,
   "id": "296d322c",
   "metadata": {},
   "outputs": [],
   "source": [
    "ypred=log_model.predict(x_test)"
   ]
  },
  {
   "cell_type": "code",
   "execution_count": 36,
   "id": "692c7787",
   "metadata": {},
   "outputs": [],
   "source": [
    "from sklearn.metrics import accuracy_score"
   ]
  },
  {
   "cell_type": "code",
   "execution_count": 38,
   "id": "38a81a2a",
   "metadata": {},
   "outputs": [
    {
     "data": {
      "text/plain": [
       "0.9989747479003399"
      ]
     },
     "execution_count": 38,
     "metadata": {},
     "output_type": "execute_result"
    }
   ],
   "source": [
    "accuracy_score(ypred,y_test)"
   ]
  },
  {
   "cell_type": "markdown",
   "id": "3fa1864a",
   "metadata": {},
   "source": [
    "# Applying Knearest neighbors"
   ]
  },
  {
   "cell_type": "code",
   "execution_count": 51,
   "id": "325de3f6",
   "metadata": {},
   "outputs": [],
   "source": [
    "from sklearn.neighbors import KNeighborsClassifier"
   ]
  },
  {
   "cell_type": "code",
   "execution_count": 55,
   "id": "bf5bdc48",
   "metadata": {},
   "outputs": [
    {
     "data": {
      "text/html": [
       "<div>\n",
       "<style scoped>\n",
       "    .dataframe tbody tr th:only-of-type {\n",
       "        vertical-align: middle;\n",
       "    }\n",
       "\n",
       "    .dataframe tbody tr th {\n",
       "        vertical-align: top;\n",
       "    }\n",
       "\n",
       "    .dataframe thead th {\n",
       "        text-align: right;\n",
       "    }\n",
       "</style>\n",
       "<table border=\"1\" class=\"dataframe\">\n",
       "  <thead>\n",
       "    <tr style=\"text-align: right;\">\n",
       "      <th></th>\n",
       "      <th>KNeighbores</th>\n",
       "      <th>acc_score</th>\n",
       "    </tr>\n",
       "  </thead>\n",
       "  <tbody>\n",
       "    <tr>\n",
       "      <th>0</th>\n",
       "      <td>1</td>\n",
       "      <td>0.998118</td>\n",
       "    </tr>\n",
       "    <tr>\n",
       "      <th>1</th>\n",
       "      <td>3</td>\n",
       "      <td>0.998427</td>\n",
       "    </tr>\n",
       "    <tr>\n",
       "      <th>2</th>\n",
       "      <td>5</td>\n",
       "      <td>0.998357</td>\n",
       "    </tr>\n",
       "    <tr>\n",
       "      <th>3</th>\n",
       "      <td>7</td>\n",
       "      <td>0.998343</td>\n",
       "    </tr>\n",
       "    <tr>\n",
       "      <th>4</th>\n",
       "      <td>9</td>\n",
       "      <td>0.998329</td>\n",
       "    </tr>\n",
       "  </tbody>\n",
       "</table>\n",
       "</div>"
      ],
      "text/plain": [
       "   KNeighbores  acc_score\n",
       "0            1   0.998118\n",
       "1            3   0.998427\n",
       "2            5   0.998357\n",
       "3            7   0.998343\n",
       "4            9   0.998329"
      ]
     },
     "execution_count": 55,
     "metadata": {},
     "output_type": "execute_result"
    }
   ],
   "source": [
    "score=[]\n",
    "for i in range(1,11,2):\n",
    "    KNC=KNeighborsClassifier(n_neighbors=i)\n",
    "    KNC.fit(x_train,y_train)\n",
    "    ypred2=KNC.predict(x_test)\n",
    "    sc=accuracy_score(ypred2,y_test)\n",
    "    score.append(sc)\n",
    "    \n",
    "acc_score={'KNeighbores':range(1,11,2),'acc_score':score}\n",
    "acc_score=pd.DataFrame(acc_score)\n",
    "acc_score"
   ]
  }
 ],
 "metadata": {
  "kernelspec": {
   "display_name": "Python 3 (ipykernel)",
   "language": "python",
   "name": "python3"
  },
  "language_info": {
   "codemirror_mode": {
    "name": "ipython",
    "version": 3
   },
   "file_extension": ".py",
   "mimetype": "text/x-python",
   "name": "python",
   "nbconvert_exporter": "python",
   "pygments_lexer": "ipython3",
   "version": "3.10.2"
  }
 },
 "nbformat": 4,
 "nbformat_minor": 5
}
